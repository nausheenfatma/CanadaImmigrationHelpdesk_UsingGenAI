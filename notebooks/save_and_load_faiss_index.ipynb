{
 "cells": [
  {
   "cell_type": "markdown",
   "metadata": {},
   "source": [
    "### 1 . Save index in a directory"
   ]
  },
  {
   "cell_type": "code",
   "execution_count": null,
   "metadata": {},
   "outputs": [
    {
     "name": "stderr",
     "output_type": "stream",
     "text": [
      "/home/nausheenfatma/.cache/pypoetry/virtualenvs/canadaimmigrationhelpdesk-usinggenai-s0qUKeX3-py3.12/lib/python3.12/site-packages/tqdm/auto.py:21: TqdmWarning: IProgress not found. Please update jupyter and ipywidgets. See https://ipywidgets.readthedocs.io/en/stable/user_install.html\n",
      "  from .autonotebook import tqdm as notebook_tqdm\n"
     ]
    }
   ],
   "source": [
    "\n",
    "# Check from the latest documentation : https://docs.llamaindex.ai/en/stable/examples/vector_stores/FaissIndexDemo/\n",
    "\n",
    "from llama_index.core import SimpleDirectoryReader\n",
    "from llama_index.vector_stores.faiss import FaissVectorStore\n",
    "from llama_index.core import StorageContext\n",
    "from llama_index.core import VectorStoreIndex\n",
    "from llama_index.embeddings.huggingface import HuggingFaceEmbedding\n",
    "import faiss\n",
    "\n",
    "# 1. Load your documents\n",
    "documents = SimpleDirectoryReader(input_dir=\"../data/docs/\").load_data()\n",
    "\n",
    "\n",
    "# 2. Initialize embeddings, used for encoding documents into embedding\n",
    "embed_model = HuggingFaceEmbedding(model_name=\"sentence-transformers/all-MiniLM-L6-v2\")\n",
    "\n",
    "\n",
    "# 3. Create FAISS index\n",
    "dimension = 384  # Dimension for MiniLM embeddings\n",
    "faiss_index = faiss.IndexFlatL2(dimension)\n",
    "\n",
    "# 4. Construct the FaissVectorStore\n",
    "faiss_vector_store = FaissVectorStore(faiss_index=faiss_index)\n",
    "\n",
    "\n",
    "# 5. Create a StorageContext to use with LlamaIndex\n",
    "storage_context = StorageContext.from_defaults(vector_store=faiss_vector_store)\n",
    "\n",
    "# 6. Build index\n",
    "index = VectorStoreIndex.from_documents(documents, storage_context=storage_context, embed_model=embed_model)\n",
    "retriever = index.as_retriever()\n",
    "\n",
    "\n",
    "# 7. Save index to disk\n",
    "index.storage_context.persist(\"storage_dir\")\n"
   ]
  },
  {
   "cell_type": "markdown",
   "metadata": {},
   "source": [
    "### 2. Load index from directory"
   ]
  },
  {
   "cell_type": "code",
   "execution_count": 2,
   "metadata": {},
   "outputs": [],
   "source": [
    "\n",
    "from llama_index.embeddings.huggingface import HuggingFaceEmbedding\n",
    "from llama_index.core import Settings\n",
    "\n",
    "from llama_index.core import StorageContext, load_index_from_storage\n",
    "from llama_index.vector_stores.faiss import FaissVectorStore\n",
    "\n",
    "from llama_index.llms.ollama import Ollama\n",
    "llm = Ollama(model=\"llama2\", request_timeout=100.0)\n",
    "\n",
    "# Restore settings\n",
    "Settings.embed_model = HuggingFaceEmbedding(model_name=\"sentence-transformers/all-MiniLM-L6-v2\")\n",
    "\n",
    "\n",
    "# load index from disk\n",
    "vector_store = FaissVectorStore.from_persist_dir(\"./storage_dir\")\n",
    "storage_context = StorageContext.from_defaults(\n",
    "    vector_store=vector_store, persist_dir=\"./storage_dir\"\n",
    ")\n",
    "index = load_index_from_storage(storage_context=storage_context)"
   ]
  },
  {
   "cell_type": "code",
   "execution_count": 3,
   "metadata": {},
   "outputs": [],
   "source": [
    "retriever = index.as_retriever()"
   ]
  },
  {
   "cell_type": "code",
   "execution_count": null,
   "metadata": {},
   "outputs": [],
   "source": [
    "\n",
    "# Query function\n",
    "def query_rag_system(question):\n",
    "    retrieved_docs = retriever.retrieve(question)\n",
    "    context = \"\\n\".join([doc.text for doc in retrieved_docs])    \n",
    "    prompt = f\"Context:\\n{context}\\n\\n Question: {question}\\n\\n\\n\\nAnswer:\"\n",
    "    response = llm.complete(prompt)\n",
    "    return response\n",
    "\n",
    "def main():\n",
    "    ### Example\n",
    "    question = \"Can I apply for the Rural and Northern Immigration Pilot now?\"\n",
    "    answer = query_rag_system(question=question)\n",
    "    print (answer)"
   ]
  },
  {
   "cell_type": "code",
   "execution_count": 5,
   "metadata": {},
   "outputs": [],
   "source": [
    "question = \"Can I apply for the Rural and Northern Immigration Pilot now?\""
   ]
  },
  {
   "cell_type": "code",
   "execution_count": 6,
   "metadata": {},
   "outputs": [],
   "source": [
    "answer = query_rag_system(question=question)"
   ]
  },
  {
   "cell_type": "code",
   "execution_count": 7,
   "metadata": {},
   "outputs": [
    {
     "data": {
      "text/plain": [
       "CompletionResponse(text='Sorry, but as of August 31, 2024, the Rural and Northern Immigration Pilot has ended. Therefore, you cannot apply for the pilot program at this time. However, you may be eligible to apply for a work permit if you have an eligible job offer in Canada. You can also continue to process applications received before the end of the pilot on August 31, 2024.\\n\\nIf you are interested in immigrating to Canada through other programs, you can explore the options available on the Immigration, Refugees and Citizenship Canada website. Additionally, you may want to consider consulting with a registered immigration lawyer or consultant to discuss your eligibility and options for immigrating to Canada.', additional_kwargs={'tool_calls': []}, raw={'model': 'llama2', 'created_at': '2025-04-10T19:14:38.750931835Z', 'done': True, 'done_reason': 'stop', 'total_duration': 19365050449, 'load_duration': 12953616, 'prompt_eval_count': 1353, 'prompt_eval_duration': 125778683, 'eval_count': 168, 'eval_duration': 19225752444, 'message': Message(role='assistant', content='Sorry, but as of August 31, 2024, the Rural and Northern Immigration Pilot has ended. Therefore, you cannot apply for the pilot program at this time. However, you may be eligible to apply for a work permit if you have an eligible job offer in Canada. You can also continue to process applications received before the end of the pilot on August 31, 2024.\\n\\nIf you are interested in immigrating to Canada through other programs, you can explore the options available on the Immigration, Refugees and Citizenship Canada website. Additionally, you may want to consider consulting with a registered immigration lawyer or consultant to discuss your eligibility and options for immigrating to Canada.', images=None, tool_calls=None), 'usage': {'prompt_tokens': 1353, 'completion_tokens': 168, 'total_tokens': 1521}}, logprobs=None, delta=None)"
      ]
     },
     "execution_count": 7,
     "metadata": {},
     "output_type": "execute_result"
    }
   ],
   "source": [
    "answer"
   ]
  }
 ],
 "metadata": {
  "kernelspec": {
   "display_name": "canadaimmigrationhelpdesk-usinggenai-s0qUKeX3-py3.12",
   "language": "python",
   "name": "python3"
  },
  "language_info": {
   "codemirror_mode": {
    "name": "ipython",
    "version": 3
   },
   "file_extension": ".py",
   "mimetype": "text/x-python",
   "name": "python",
   "nbconvert_exporter": "python",
   "pygments_lexer": "ipython3",
   "version": "3.12.8"
  }
 },
 "nbformat": 4,
 "nbformat_minor": 2
}
