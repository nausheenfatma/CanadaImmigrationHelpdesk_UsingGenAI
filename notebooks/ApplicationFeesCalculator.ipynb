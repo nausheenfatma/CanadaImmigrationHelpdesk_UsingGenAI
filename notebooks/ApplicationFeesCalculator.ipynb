{
 "cells": [
  {
   "cell_type": "markdown",
   "metadata": {},
   "source": [
    "### This notebook explores if you really need a custom Agent tool for doing calculations or the LLM can handle the calculations directly.\n",
    "\n",
    "As a part of exercise, I crawled the page as document which has fees information: https://www.canada.ca/en/immigration-refugees-citizenship/services/immigrate-canada/express-entry.html which contains information about application fees. Chunked the document into paragraphs, and asked questions like this:\n",
    "\n",
    "User Query: I have 3 dependent children and a spouse. How much will be my total applications fees?\n",
    "\n",
    "This exercise shows how the LLM can do basic maths operations and we may not need a custom tool for the same.\n"
   ]
  },
  {
   "cell_type": "code",
   "execution_count": 1,
   "metadata": {},
   "outputs": [],
   "source": [
    "from llama_index.core import SimpleDirectoryReader\n",
    "\n",
    "# Load your documents\n",
    "documents = SimpleDirectoryReader(input_files=[\"../data/docs/immigration-refugees-citizenship_services_immigrate-canada_express-entry.txt\"]).load_data()"
   ]
  },
  {
   "cell_type": "markdown",
   "metadata": {},
   "source": [
    "### Chunk documents on custom splitter."
   ]
  },
  {
   "cell_type": "code",
   "execution_count": 2,
   "metadata": {},
   "outputs": [],
   "source": [
    "from llama_index.core.text_splitter import TokenTextSplitter\n",
    "\n",
    "class ParagraphSplitter(TokenTextSplitter):\n",
    "    def split_text(self, text):\n",
    "        \"\"\"\n",
    "        Splits text on 3 new line (Text separated by 2 empty lines)\n",
    "\n",
    "        \"\"\"\n",
    "        paragraphs = [p.strip() for p in text.split('\\n\\n\\n') if p.strip()]\n",
    "        return paragraphs\n",
    "\n",
    "splitter = ParagraphSplitter()\n"
   ]
  },
  {
   "cell_type": "markdown",
   "metadata": {},
   "source": [
    "### Example to check how the custom split works on raw text"
   ]
  },
  {
   "cell_type": "code",
   "execution_count": 3,
   "metadata": {},
   "outputs": [
    {
     "name": "stdout",
     "output_type": "stream",
     "text": [
      "This is para1.\n",
      "-------------------\n",
      "This is para2.\n",
      "\n",
      "This is parA3\n",
      "-------------------\n"
     ]
    }
   ],
   "source": [
    "\n",
    "text = \"\"\"This is para1.\n",
    "\n",
    "\n",
    "This is para2.\n",
    "\n",
    "This is parA3\"\"\"\n",
    "\n",
    "nodes = splitter.split_text(text)\n",
    "\n",
    "for p in nodes:\n",
    "    print(p)\n",
    "    print (\"-------------------\")"
   ]
  },
  {
   "cell_type": "markdown",
   "metadata": {},
   "source": [
    "### Split on documents"
   ]
  },
  {
   "cell_type": "code",
   "execution_count": 4,
   "metadata": {},
   "outputs": [],
   "source": [
    "\n",
    "nodes = splitter.get_nodes_from_documents(documents)\n",
    "\n",
    "\n",
    "# Apply splitter to each document\n",
    "all_paragraphs = []\n",
    "for doc in documents:\n",
    "    nodes = splitter.split_text(doc.text)\n",
    "    all_paragraphs.extend(nodes)"
   ]
  },
  {
   "cell_type": "markdown",
   "metadata": {},
   "source": [
    "### Storing embeddings on Faiss vector store on paragraph split chunks\n"
   ]
  },
  {
   "cell_type": "code",
   "execution_count": 5,
   "metadata": {},
   "outputs": [
    {
     "name": "stderr",
     "output_type": "stream",
     "text": [
      "/home/nausheenfatma/.cache/pypoetry/virtualenvs/canadaimmigrationhelpdesk-usinggenai-s0qUKeX3-py3.12/lib/python3.12/site-packages/tqdm/auto.py:21: TqdmWarning: IProgress not found. Please update jupyter and ipywidgets. See https://ipywidgets.readthedocs.io/en/stable/user_install.html\n",
      "  from .autonotebook import tqdm as notebook_tqdm\n"
     ]
    }
   ],
   "source": [
    "# Initialize embeddings, used for encoding documents into embedding\n",
    "from llama_index.embeddings.huggingface import HuggingFaceEmbedding"
   ]
  },
  {
   "cell_type": "code",
   "execution_count": 6,
   "metadata": {},
   "outputs": [],
   "source": [
    "from llama_index.vector_stores.faiss import FaissVectorStore\n",
    "from llama_index.core import StorageContext\n",
    "from llama_index.core import VectorStoreIndex\n",
    "import faiss\n"
   ]
  },
  {
   "cell_type": "code",
   "execution_count": 7,
   "metadata": {},
   "outputs": [
    {
     "name": "stderr",
     "output_type": "stream",
     "text": [
      "Xet Storage is enabled for this repo, but the 'hf_xet' package is not installed. Falling back to regular HTTP download. For better performance, install the package with: `pip install huggingface_hub[hf_xet]` or `pip install hf_xet`\n"
     ]
    }
   ],
   "source": [
    "# 1. Load documents\n",
    "#documents = SimpleDirectoryReader('path/to/docs').load_data()\n",
    "from llama_index.core.text_splitter import SentenceSplitter\n",
    "from llama_index.core.schema import TextNode\n",
    "\n",
    "documents = SimpleDirectoryReader(input_files=[\"../data/docs/immigration-refugees-citizenship_services_immigrate-canada_express-entry.txt\"]).load_data()\n",
    "\n",
    "# 2. Split into paragraphs strings\n",
    "splitter = ParagraphSplitter()\n",
    "all_nodes = []\n",
    "\n",
    "for doc in documents:\n",
    "    paragraphs = splitter.split_text(doc.text)\n",
    "    # Convert to Node objects\n",
    "    nodes = [TextNode(text=p) for p in paragraphs]\n",
    "    all_nodes.extend(nodes)\n",
    "\n",
    "\n",
    "## 3. Set up embedding model\n",
    "# embed_model = OpenAIEmbedding()  # or your own embedding model\n",
    "embed_model = HuggingFaceEmbedding(model_name=\"sentence-transformers/all-MiniLM-L6-v2\")\n",
    "\n",
    "# # 4. Create FAISS vector store and embed\n",
    "# Create FAISS index\n",
    "dimension = 384  # Dimension for MiniLM embeddings\n",
    "faiss_index = faiss.IndexFlatL2(dimension)\n",
    "\n",
    "# Construct the FaissVectorStore\n",
    "vector_store = FaissVectorStore(faiss_index=faiss_index)\n",
    "\n",
    "\n",
    "# Create a StorageContext to use with LlamaIndex\n",
    "storage_context = StorageContext.from_defaults(vector_store=vector_store)\n",
    "\n",
    "\n",
    "index = VectorStoreIndex(\n",
    "        nodes, storage_context=storage_context, \n",
    "        embed_model=embed_model)\n",
    "\n",
    "# 5. Persist FAISS index (optional)\n",
    "# faiss.write_index(index.vector_store.faiss_index, \"faiss_index_chunks.idx\")"
   ]
  },
  {
   "cell_type": "code",
   "execution_count": 8,
   "metadata": {},
   "outputs": [
    {
     "data": {
      "text/plain": [
       "[TextNode(id_='d978bbf2-8028-4db2-a5e4-9ee6702c5084', embedding=None, metadata={}, excluded_embed_metadata_keys=[], excluded_llm_metadata_keys=[], relationships={}, metadata_template='{key}: {value}', metadata_separator='\\n', text='This is content for https://www.canada.ca/en/immigration-refugees-citizenship/services/immigrate-canada/express-entry', mimetype='text/plain', start_char_idx=None, end_char_idx=None, metadata_seperator='\\n', text_template='{metadata_str}\\n\\n{content}'),\n",
       " TextNode(id_='393374aa-16ce-426c-b729-a8d23db410d8', embedding=None, metadata={}, excluded_embed_metadata_keys=[], excluded_llm_metadata_keys=[], relationships={}, metadata_template='{key}: {value}', metadata_separator='\\n', text='You are here:\\n - Canada.ca\\n - Immigration and citizenship\\n - Immigrate to Canada', mimetype='text/plain', start_char_idx=None, end_char_idx=None, metadata_seperator='\\n', text_template='{metadata_str}\\n\\n{content}'),\n",
       " TextNode(id_='f9444559-3d08-4c2c-a90d-6babc3b5bfd3', embedding=None, metadata={}, excluded_embed_metadata_keys=[], excluded_llm_metadata_keys=[], relationships={}, metadata_template='{key}: {value}', metadata_separator='\\n', text=\"Express Entry\\n \\nExpress Entry is an online system that we use to manage immigration applications from skilled workers.\\n \\nThere are 3 immigration programs managed through Express Entry:\\n - Canadian Experience Class\\n - Federal Skilled Worker Program\\n - Federal Skilled Trades Program\\n \\nHow the Express Entry process works:\\n - Create a profile and enter the pool.\\n - We'll invite the candidates with the most points in rounds.\\n - If you're invited to apply, fill out the application.\\n - We'll review your application and make a decision.\", mimetype='text/plain', start_char_idx=None, end_char_idx=None, metadata_seperator='\\n', text_template='{metadata_str}\\n\\n{content}'),\n",
       " TextNode(id_='95c66df3-a0fb-4484-ab04-0d7dfd872546', embedding=None, metadata={}, excluded_embed_metadata_keys=[], excluded_llm_metadata_keys=[], relationships={}, metadata_template='{key}: {value}', metadata_separator='\\n', text='Processing times\\n \\nVaries by program (Refer page: /en/immigration-refugees-citizenship/services/application/check-processing-times.html)', mimetype='text/plain', start_char_idx=None, end_char_idx=None, metadata_seperator='\\n', text_template='{metadata_str}\\n\\n{content}'),\n",
       " TextNode(id_='71f797bc-f641-4e8e-a638-60d5fc80baaf', embedding=None, metadata={}, excluded_embed_metadata_keys=[], excluded_llm_metadata_keys=[], relationships={}, metadata_template='{key}: {value}', metadata_separator='\\n', text='Fees\\n \\nYour application: $CAN\\xa01,525\\n \\nFees for your family members:\\n - Spouse: $CAN\\xa01,525\\n - Dependent child: $CAN\\xa0260', mimetype='text/plain', start_char_idx=None, end_char_idx=None, metadata_seperator='\\n', text_template='{metadata_str}\\n\\n{content}'),\n",
       " TextNode(id_='ac2375f0-b0f1-423b-922b-f25f22c2ff1d', embedding=None, metadata={}, excluded_embed_metadata_keys=[], excluded_llm_metadata_keys=[], relationships={}, metadata_template='{key}: {value}', metadata_separator='\\n', text='Sections\\n \\nWho can apply: \\n \\nCheck your score: \\n \\nGet your documents ready: \\n \\nCreate your profile: \\n \\nRounds of invitations: \\n \\nApply for permanent residence: \\n \\nAfter you apply: \\n \\nIf we approve your application:', mimetype='text/plain', start_char_idx=None, end_char_idx=None, metadata_seperator='\\n', text_template='{metadata_str}\\n\\n{content}')]"
      ]
     },
     "execution_count": 8,
     "metadata": {},
     "output_type": "execute_result"
    }
   ],
   "source": [
    "nodes"
   ]
  },
  {
   "cell_type": "markdown",
   "metadata": {},
   "source": [
    "retriever = index.as_retriever()"
   ]
  },
  {
   "cell_type": "code",
   "execution_count": 9,
   "metadata": {},
   "outputs": [],
   "source": [
    "retriever = index.as_retriever()"
   ]
  },
  {
   "cell_type": "code",
   "execution_count": 10,
   "metadata": {},
   "outputs": [],
   "source": [
    "from llama_index.llms.ollama import Ollama\n",
    "llm = Ollama(model=\"llama2\", request_timeout=100.0)\n",
    "\n",
    "# Query function\n",
    "def query_rag_system(question):\n",
    "    retrieved_docs = retriever.retrieve(question)\n",
    "    context = \"\\n\".join([doc.text for doc in retrieved_docs]) \n",
    "    prompt = f\"Context:\\n{context}\\n\\n Question: {question}\\n\\n\\n\\nAnswer:\"\n",
    "    response = llm.complete(prompt)\n",
    "    return response"
   ]
  },
  {
   "cell_type": "code",
   "execution_count": 11,
   "metadata": {},
   "outputs": [],
   "source": [
    "response = query_rag_system(\"I have 3 dependent children and a spouse. How much will be my total applications fees?\")"
   ]
  },
  {
   "cell_type": "code",
   "execution_count": 12,
   "metadata": {},
   "outputs": [
    {
     "data": {
      "text/plain": [
       "'The total fee for your application, including your spouse and three dependent children, would be $CAN 1,525 + ($CAN 260 x 3) = $CAN 4,385.'"
      ]
     },
     "execution_count": 12,
     "metadata": {},
     "output_type": "execute_result"
    }
   ],
   "source": [
    "response.text"
   ]
  },
  {
   "cell_type": "code",
   "execution_count": 13,
   "metadata": {},
   "outputs": [],
   "source": [
    "response = query_rag_system(\"I am applying for myself and my spouse. How much will be my total applications fees?\")"
   ]
  },
  {
   "cell_type": "code",
   "execution_count": 14,
   "metadata": {},
   "outputs": [
    {
     "data": {
      "text/plain": [
       "'Based on the information provided in the context, if you are applying for yourself and your spouse, the total application fees would be $CAN 1,525 + $CAN 1,525 = $CAN 3,050.'"
      ]
     },
     "execution_count": 14,
     "metadata": {},
     "output_type": "execute_result"
    }
   ],
   "source": [
    "response.text"
   ]
  },
  {
   "cell_type": "code",
   "execution_count": 15,
   "metadata": {},
   "outputs": [],
   "source": [
    "response = query_rag_system(\"I am a single mother with 1 child. How much is my application fees.\")"
   ]
  },
  {
   "cell_type": "code",
   "execution_count": 16,
   "metadata": {},
   "outputs": [
    {
     "data": {
      "text/plain": [
       "'Based on the information provided in the context, your application fee as a single mother with one child would be $CAN 1,525. This is the same amount as the application fee for a spouse or common-law partner, as well as the fee for each dependent child. Therefore, your application fee would be $CAN 1,525.'"
      ]
     },
     "execution_count": 16,
     "metadata": {},
     "output_type": "execute_result"
    }
   ],
   "source": [
    "response.text"
   ]
  },
  {
   "cell_type": "code",
   "execution_count": 17,
   "metadata": {},
   "outputs": [],
   "source": [
    "# above example failed. rewrite prompt \n",
    "response = query_rag_system(\"I am a single mother with 1 dependent child. How much is my application fees.\")"
   ]
  },
  {
   "cell_type": "code",
   "execution_count": 18,
   "metadata": {},
   "outputs": [
    {
     "data": {
      "text/plain": [
       "'Based on the information provided in the context, the application fee for a single mother with one dependent child is $CAN 1,525. This is the same as the application fee for a family of three or more members.'"
      ]
     },
     "execution_count": 18,
     "metadata": {},
     "output_type": "execute_result"
    }
   ],
   "source": [
    "response.text"
   ]
  },
  {
   "cell_type": "code",
   "execution_count": null,
   "metadata": {},
   "outputs": [
    {
     "data": {
      "text/plain": [
       "'Based on the information provided in the context, the total application fee for a mother applying for herself and one dependent child would be $CAN 1,525 + $CAN 260 = $CAN 1,785.'"
      ]
     },
     "execution_count": 19,
     "metadata": {},
     "output_type": "execute_result"
    }
   ],
   "source": [
    "# the above two answers gave wrong output, fix prompts.\n",
    "\n",
    "response = query_rag_system(\"I am a mother applying for myself and 1 dependent child. How much is my total application fees.\")\n",
    "response.text"
   ]
  },
  {
   "cell_type": "markdown",
   "metadata": {},
   "source": [
    "The above exercise shows that building cutom tool for simple mathematical problems can largely be handled using the LLMs directly."
   ]
  },
  {
   "cell_type": "markdown",
   "metadata": {},
   "source": [
    "### When do we really need to build custom tools then?\n",
    "\n",
    "You should consider building your own custom agent tool when:\n",
    "\n",
    "- You need access to a specific API, database, or system\n",
    "E.g., querying a proprietary dataset, scraping a niche website, or interacting with a custom backend service.\n",
    "\n",
    "- You want to encapsulate complex business logic\n",
    "If the logic is too domain-specific (e.g., insurance claim validation or NLP over legal documents), custom tools help abstract and reuse that logic.\n",
    "\n",
    "- Built-in tools don't cover your use case\n",
    "You might need to integrate with IoT devices, internal microservices, or specialized hardware.\n",
    "\n",
    "- You need control over latency or caching\n",
    "Some tasks may benefit from local caching, retry logic, or rate limiting—these can be handled inside a custom tool.\n",
    "\n",
    "\n",
    "\n",
    "### Do Mathematical Operations Require Tools?\n",
    "Simple math operations (like 2 + 2, or sqrt(16)) do not require tools—LLMs can usually handle them.\n",
    "\n",
    "But you should use a tool when:\n",
    "\n",
    "- You need precision math or long-form calculations (e.g., compound interest, probability calculations, matrix ops).\n",
    "\n",
    "- You want to use NumPy, SymPy, or SciPy.\n",
    "\n",
    "- You need math inside a reasoning chain (e.g., the result feeds into another decision)."
   ]
  }
 ],
 "metadata": {
  "kernelspec": {
   "display_name": "canadaimmigrationhelpdesk-usinggenai-s0qUKeX3-py3.12",
   "language": "python",
   "name": "python3"
  },
  "language_info": {
   "codemirror_mode": {
    "name": "ipython",
    "version": 3
   },
   "file_extension": ".py",
   "mimetype": "text/x-python",
   "name": "python",
   "nbconvert_exporter": "python",
   "pygments_lexer": "ipython3",
   "version": "3.12.8"
  }
 },
 "nbformat": 4,
 "nbformat_minor": 2
}
