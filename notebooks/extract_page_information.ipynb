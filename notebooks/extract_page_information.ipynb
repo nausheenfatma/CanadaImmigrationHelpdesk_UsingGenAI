{
 "cells": [
  {
   "cell_type": "markdown",
   "metadata": {},
   "source": [
    "### Script to extract relevant information from a page. The script involves customization according to how a page is designed, a website specific tags and markers"
   ]
  },
  {
   "cell_type": "code",
   "execution_count": 3,
   "metadata": {},
   "outputs": [],
   "source": [
    "import requests\n",
    "from bs4 import BeautifulSoup, Tag"
   ]
  },
  {
   "cell_type": "code",
   "execution_count": 4,
   "metadata": {},
   "outputs": [],
   "source": [
    "# URL to scrape\n",
    "#url = \"https://www.canada.ca/en/immigration-refugees-citizenship/services/immigrate-canada/provincial-nominees.html\"  # Replace with your target URL\n",
    "url = \"https://www.canada.ca/en/immigration-refugees-citizenship/services/immigrate-canada/express-entry/who-can-apply\"\n",
    "url =\"https://www.canada.ca/en/immigration-refugees-citizenship/services/immigrate-canada/caregivers\"\n",
    "url = \"https://www.canada.ca/en/immigration-refugees-citizenship/services/immigrate-canada/caregivers/home-care-worker-immigration-pilots\""
   ]
  },
  {
   "cell_type": "code",
   "execution_count": 5,
   "metadata": {},
   "outputs": [],
   "source": [
    "headers = {\"User-Agent\": \"Mozilla/5.0\"}\n",
    "\n"
   ]
  },
  {
   "cell_type": "code",
   "execution_count": 6,
   "metadata": {},
   "outputs": [],
   "source": [
    "url_list = []\n",
    "\n",
    "f = open(\"../data/crawled_page_links.txt\")\n",
    "\n",
    "for line in f:\n",
    "    url_list.append(line.strip())"
   ]
  },
  {
   "cell_type": "code",
   "execution_count": 7,
   "metadata": {},
   "outputs": [
    {
     "data": {
      "text/plain": [
       "['https://www.canada.ca/en/immigration-refugees-citizenship/services/study-canada/study-permit-account',\n",
       " 'https://www.canada.ca/en/immigration-refugees-citizenship/campaigns/immigration-matters/growing-canada-future/business',\n",
       " 'https://www.canada.ca/en/immigration-refugees-citizenship/services/application/application-forms-guides/imm0268',\n",
       " 'https://www.canada.ca/en/immigration-refugees-citizenship/services/immigrate-canada/agri-food-pilot/work-permit',\n",
       " 'https://www.canada.ca/en/immigration-refugees-citizenship/services/settle-canada/laws',\n",
       " 'https://www.canada.ca/en/immigration-refugees-citizenship/services/application/application-forms-guides/cit0560',\n",
       " 'https://www.canada.ca/en/immigration-refugees-citizenship/news/video/marriage-fraud-stories-victims',\n",
       " 'https://www.canada.ca/en/immigration-refugees-citizenship/services/work-canada/permit/open-work-permit-hong-kong-recent-graduates/apply',\n",
       " 'https://www.canada.ca/en/immigration-refugees-citizenship/services/application/application-forms-guides/imm0150',\n",
       " 'https://www.canada.ca/en/immigration-refugees-citizenship/services/study-canada/study-permit/prepare/designated-learning-institutions-list/rocky-mountain-college']"
      ]
     },
     "execution_count": 7,
     "metadata": {},
     "output_type": "execute_result"
    }
   ],
   "source": [
    "url_list[0:10]"
   ]
  },
  {
   "cell_type": "code",
   "execution_count": null,
   "metadata": {},
   "outputs": [
    {
     "name": "stdout",
     "output_type": "stream",
     "text": [
      "Extracting information from page:  https://www.canada.ca/en/immigration-refugees-citizenship/corporate/mandate\n",
      "Extracting information from page:  https://www.canada.ca/en/immigration-refugees-citizenship/services/study-canada/study-permit/fmc-student-pilot/eligibility/participating-dlis\n",
      "Extracting information from page:  https://www.canada.ca/en/immigration-refugees-citizenship/services/immigrate-canada/inadmissibility/reasons/medical-inadmissibility\n",
      "Extracting information from page:  https://www.canada.ca/en/immigration-refugees-citizenship/corporate/publications-manuals/annual-reports-parliament-immigration\n",
      "Extracting information from page:  https://www.canada.ca/en/immigration-refugees-citizenship/services/application/application-forms-guides/application-rehabilitation-inadmissible-persons-criminal-activity\n",
      "Extracting information from page:  https://www.canada.ca/en/immigration-refugees-citizenship/services/application/application-forms-guides/imm5653\n",
      "Extracting information from page:  https://www.canada.ca/en/immigration-refugees-citizenship/corporate/publications-manuals/operational-bulletins-manuals/standard-requirements/language-requirements/designated-testing-agencies\n",
      "Extracting information from page:  https://www.canada.ca/en/immigration-refugees-citizenship/services/new-immigrants/pr-card/apply-renew-replace\n",
      "Extracting information from page:  https://www.canada.ca/en/immigration-refugees-citizenship/corporate/publications-manuals/passport-program-annual-report-2017-2018\n",
      "Extracting information from page:  https://www.canada.ca/en/immigration-refugees-citizenship/services/settle-canada/communications\n"
     ]
    }
   ],
   "source": [
    "# Headers we care about\n",
    "valid_headers = ['h1', 'h2', 'h3', 'h4', 'h5', 'h6']\n",
    "\n",
    "CONTENT_START_HEADER_TEXT = \"You are here\"\n",
    "CONTENT_ENDS_HEADER_TEXT = \"Page details\"\n",
    "\n",
    "\n",
    "for url in url_list[25:35]:\n",
    "    print (\"Extracting information from page: \", url)\n",
    "    # Fetch the content from the url\n",
    "    response = requests.get(url, headers=headers)\n",
    "    soup = BeautifulSoup(response.text, 'html.parser')\n",
    "\n",
    "\n",
    "    # Iterate through elements and organize them\n",
    "    content = []\n",
    "    current_header = None\n",
    "    start_scrape_flag = False\n",
    "\n",
    "    for element in soup.body.descendants:\n",
    "        if isinstance(element, Tag):\n",
    "            \n",
    "            #scrape only after the header  \"You are here:\" is found\n",
    "            #skip all the text after \"Page details\"  \n",
    "            \n",
    "            if element.get_text().startswith(CONTENT_START_HEADER_TEXT):\n",
    "                start_scrape_flag = True\n",
    "            \n",
    "            if element.get_text().startswith(CONTENT_ENDS_HEADER_TEXT):\n",
    "                #stop reading the file\n",
    "                break\n",
    "                    \n",
    "            if start_scrape_flag:\n",
    "                if element.name in valid_headers:\n",
    "                        \n",
    "                        \n",
    "                            header_text = element.get_text(strip=True)\n",
    "\n",
    "                            if element.name in ['h1', 'h2']:\n",
    "                                \n",
    "                                header_text = \"\\n\\n\\n\"+header_text\n",
    "                            else:\n",
    "                                header_text = \"\\n\"+header_text\n",
    "                                                    \n",
    "                            current_header = {\n",
    "                                \"header\": header_text,\n",
    "                                \"paragraphs\": []\n",
    "                            }\n",
    "                            content.append(current_header)\n",
    "                            \n",
    "                            \n",
    "                elif element.name == 'p' and current_header:\n",
    "                    paragraph_text = element.get_text()\n",
    "                    \n",
    "                    if paragraph_text:\n",
    "                        \n",
    "                        # Extract urls using the <a> tag\n",
    "                        a_tag = element.find('a')\n",
    "                        if a_tag:\n",
    "                            link_text = a_tag.text\n",
    "                            href = a_tag['href']\n",
    "                            p_tag = element.get_text('p')\n",
    "                            paragraph_text+=f\" (Refer page: {href})\"\n",
    "                            \n",
    "                        current_header[\"paragraphs\"].append(\"\\n\"+paragraph_text)\n",
    "                                    \n",
    "                        \n",
    "                elif element.name == 'dt' and current_header:\n",
    "                    paragraph_text = element.get_text(strip=True)\n",
    "                    if paragraph_text:\n",
    "                        current_header[\"paragraphs\"].append(\"\\n\"+paragraph_text+\": \")\n",
    "                        \n",
    "                \n",
    "                        \n",
    "                # extract all bullet points      \n",
    "                elif current_header and element.name in [\"ul\", \"ol\"]:         \n",
    "                    #bullet_text = element.get_text(strip=True)\n",
    "                        \n",
    "                    collected_data = [li.get_text() for li in element.find_all('li')]\n",
    "                    collected_data = \"\\n - \".join(collected_data)\n",
    "                    collected_data = \"- \" + collected_data #For first bullet\n",
    "                    #print (\"collected_data\", collected_data)\n",
    "                    current_header[\"paragraphs\"].append(collected_data)\n",
    "\n",
    "\n",
    "    # Save clean extracted content in docs\n",
    "    page_name = url.split(\"https://www.canada.ca/en/\")[1]\n",
    "    page_name = \"_\".join(page_name.split(\"/\"))\n",
    "    fw = open(f\"../data/docs/{page_name}.txt\", \"w\")\n",
    "    fw.write(f\"This is content for {url}\")\n",
    "\n",
    "    for section in content:\n",
    "        #print(f\"\\n{section['header']}\")\n",
    "        \n",
    "        fw.write(f\"\\n{section['header']}\")\n",
    "        for para in section['paragraphs']:\n",
    "            #print(f\"  - {para}\")\n",
    "            fw.write(f\"\\n {para}\")\n",
    "            \n",
    "    fw.close()\n"
   ]
  },
  {
   "cell_type": "code",
   "execution_count": null,
   "metadata": {},
   "outputs": [],
   "source": []
  }
 ],
 "metadata": {
  "kernelspec": {
   "display_name": "canadaimmigrationhelpdesk-usinggenai-s0qUKeX3-py3.12",
   "language": "python",
   "name": "python3"
  },
  "language_info": {
   "codemirror_mode": {
    "name": "ipython",
    "version": 3
   },
   "file_extension": ".py",
   "mimetype": "text/x-python",
   "name": "python",
   "nbconvert_exporter": "python",
   "pygments_lexer": "ipython3",
   "version": "3.12.8"
  }
 },
 "nbformat": 4,
 "nbformat_minor": 2
}
