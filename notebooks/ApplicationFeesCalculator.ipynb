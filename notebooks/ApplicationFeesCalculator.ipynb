{
 "cells": [
  {
   "cell_type": "markdown",
   "metadata": {},
   "source": [
    "### This notebook explores if you really need a custom Agent tool for doing calculations or the LLM can handle the calculations directly.\n",
    "\n",
    "As a part of exercise, I crawled the page as document which has fees information: https://www.canada.ca/en/immigration-refugees-citizenship/services/immigrate-canada/express-entry.html which contains information about application fees. Chunked the document into paragraphs, and asked questions like this:\n",
    "\n",
    "User Query: I have 3 dependent children and a spouse. How much will be my total applications fees?\n",
    "\n",
    "This exercise shows how the LLM can do basic maths operations and we may not need a custom tool for the same.\n"
   ]
  },
  {
   "cell_type": "code",
   "execution_count": null,
   "metadata": {},
   "outputs": [],
   "source": [
    "from llama_index.core import SimpleDirectoryReader\n",
    "\n",
    "# Load your documents\n",
    "documents = SimpleDirectoryReader(input_files=[\"../data/docs/immigration-refugees-citizenship_services_immigrate-canada_express-entry.txt\"]).load_data()"
   ]
  },
  {
   "cell_type": "markdown",
   "metadata": {},
   "source": [
    "### Chunk documents on custom splitter."
   ]
  },
  {
   "cell_type": "code",
   "execution_count": null,
   "metadata": {},
   "outputs": [],
   "source": [
    "from llama_index.core.text_splitter import TokenTextSplitter\n",
    "\n",
    "class ParagraphSplitter(TokenTextSplitter):\n",
    "    def split_text(self, text):\n",
    "        \"\"\"\n",
    "        Splits text on 3 new line (Text separated by 2 empty lines)\n",
    "\n",
    "        \"\"\"\n",
    "        paragraphs = [p.strip() for p in text.split('\\n\\n\\n') if p.strip()]\n",
    "        return paragraphs\n",
    "\n",
    "splitter = ParagraphSplitter()\n"
   ]
  },
  {
   "cell_type": "markdown",
   "metadata": {},
   "source": [
    "### Example to check how the custom split works on raw text"
   ]
  },
  {
   "cell_type": "code",
   "execution_count": 16,
   "metadata": {},
   "outputs": [
    {
     "name": "stdout",
     "output_type": "stream",
     "text": [
      "This is para1.\n",
      "-------------------\n",
      "This is para2.\n",
      "\n",
      "This is parA3\n",
      "-------------------\n"
     ]
    }
   ],
   "source": [
    "\n",
    "text = \"\"\"This is para1.\n",
    "\n",
    "\n",
    "This is para2.\n",
    "\n",
    "This is parA3\"\"\"\n",
    "\n",
    "nodes = splitter.split_text(text)\n",
    "\n",
    "for p in nodes:\n",
    "    print(p)\n",
    "    print (\"-------------------\")"
   ]
  },
  {
   "cell_type": "markdown",
   "metadata": {},
   "source": [
    "### Split on documents"
   ]
  },
  {
   "cell_type": "code",
   "execution_count": null,
   "metadata": {},
   "outputs": [],
   "source": [
    "\n",
    "nodes = splitter.get_nodes_from_documents(documents)\n",
    "\n",
    "\n",
    "# Apply splitter to each document\n",
    "all_paragraphs = []\n",
    "for doc in documents:\n",
    "    nodes = splitter.split_text(doc.text)\n",
    "    all_paragraphs.extend(nodes)"
   ]
  },
  {
   "cell_type": "markdown",
   "metadata": {},
   "source": [
    "### Storing embeddings on Faiss vector store on paragraph split chunks\n"
   ]
  },
  {
   "cell_type": "code",
   "execution_count": null,
   "metadata": {},
   "outputs": [
    {
     "name": "stderr",
     "output_type": "stream",
     "text": [
      "/home/nausheenfatma/.cache/pypoetry/virtualenvs/canadaimmigrationhelpdesk-usinggenai-s0qUKeX3-py3.12/lib/python3.12/site-packages/tqdm/auto.py:21: TqdmWarning: IProgress not found. Please update jupyter and ipywidgets. See https://ipywidgets.readthedocs.io/en/stable/user_install.html\n",
      "  from .autonotebook import tqdm as notebook_tqdm\n",
      "Xet Storage is enabled for this repo, but the 'hf_xet' package is not installed. Falling back to regular HTTP download. For better performance, install the package with: `pip install huggingface_hub[hf_xet]` or `pip install hf_xet`\n"
     ]
    }
   ],
   "source": [
    "# Initialize embeddings, used for encoding documents into embedding\n",
    "from llama_index.embeddings.huggingface import HuggingFaceEmbedding"
   ]
  },
  {
   "cell_type": "code",
   "execution_count": null,
   "metadata": {},
   "outputs": [],
   "source": [
    "from llama_index.vector_stores.faiss import FaissVectorStore\n",
    "from llama_index.core import StorageContext\n",
    "from llama_index.core import VectorStoreIndex\n",
    "import faiss\n"
   ]
  },
  {
   "cell_type": "code",
   "execution_count": null,
   "metadata": {},
   "outputs": [],
   "source": [
    "# 1. Load documents\n",
    "#documents = SimpleDirectoryReader('path/to/docs').load_data()\n",
    "from llama_index.core.text_splitter import SentenceSplitter\n",
    "from llama_index.core.schema import TextNode\n",
    "\n",
    "documents = SimpleDirectoryReader(input_files=[\"../data/docs/immigration-refugees-citizenship_services_immigrate-canada_express-entry.txt\"]).load_data()\n",
    "\n",
    "# 2. Split into paragraphs strings\n",
    "splitter = ParagraphSplitter()\n",
    "all_nodes = []\n",
    "\n",
    "for doc in documents:\n",
    "    paragraphs = splitter.split_text(doc.text)\n",
    "    # Convert to Node objects\n",
    "    nodes = [TextNode(text=p) for p in paragraphs]\n",
    "    all_nodes.extend(nodes)\n",
    "\n",
    "\n",
    "## 3. Set up embedding model\n",
    "# embed_model = OpenAIEmbedding()  # or your own embedding model\n",
    "embed_model = HuggingFaceEmbedding(model_name=\"sentence-transformers/all-MiniLM-L6-v2\")\n",
    "\n",
    "# # 4. Create FAISS vector store and embed\n",
    "# Create FAISS index\n",
    "dimension = 384  # Dimension for MiniLM embeddings\n",
    "faiss_index = faiss.IndexFlatL2(dimension)\n",
    "\n",
    "# Construct the FaissVectorStore\n",
    "vector_store = FaissVectorStore(faiss_index=faiss_index)\n",
    "\n",
    "\n",
    "# Create a StorageContext to use with LlamaIndex\n",
    "storage_context = StorageContext.from_defaults(vector_store=vector_store)\n",
    "\n",
    "\n",
    "index = VectorStoreIndex(\n",
    "        nodes, storage_context=storage_context, \n",
    "        embed_model=embed_model)\n",
    "\n",
    "# 5. Persist FAISS index (optional)\n",
    "# faiss.write_index(index.vector_store.faiss_index, \"faiss_index_chunks.idx\")"
   ]
  },
  {
   "cell_type": "code",
   "execution_count": 36,
   "metadata": {},
   "outputs": [
    {
     "data": {
      "text/plain": [
       "['This is content for https://www.canada.ca/en/immigration-refugees-citizenship/services/immigrate-canada/express-entry',\n",
       " 'You are here:\\n - Canada.ca\\n - Immigration and citizenship\\n - Immigrate to Canada',\n",
       " \"Express Entry\\n \\nExpress Entry is an online system that we use to manage immigration applications from skilled workers.\\n \\nThere are 3 immigration programs managed through Express Entry:\\n - Canadian Experience Class\\n - Federal Skilled Worker Program\\n - Federal Skilled Trades Program\\n \\nHow the Express Entry process works:\\n - Create a profile and enter the pool.\\n - We'll invite the candidates with the most points in rounds.\\n - If you're invited to apply, fill out the application.\\n - We'll review your application and make a decision.\",\n",
       " 'Processing times\\n \\nVaries by program (Refer page: /en/immigration-refugees-citizenship/services/application/check-processing-times.html)',\n",
       " 'Fees\\n \\nYour application: $CAN\\xa01,525\\n \\nFees for your family members:\\n - Spouse: $CAN\\xa01,525\\n - Dependent child: $CAN\\xa0260',\n",
       " 'Sections\\n \\nWho can apply: \\n \\nCheck your score: \\n \\nGet your documents ready: \\n \\nCreate your profile: \\n \\nRounds of invitations: \\n \\nApply for permanent residence: \\n \\nAfter you apply: \\n \\nIf we approve your application:']"
      ]
     },
     "execution_count": 36,
     "metadata": {},
     "output_type": "execute_result"
    }
   ],
   "source": [
    "nodes"
   ]
  },
  {
   "cell_type": "markdown",
   "metadata": {},
   "source": [
    "retriever = index.as_retriever()"
   ]
  },
  {
   "cell_type": "code",
   "execution_count": 41,
   "metadata": {},
   "outputs": [],
   "source": [
    "retriever = index.as_retriever()"
   ]
  },
  {
   "cell_type": "code",
   "execution_count": 42,
   "metadata": {},
   "outputs": [],
   "source": [
    "from llama_index.llms.ollama import Ollama\n",
    "llm = Ollama(model=\"llama2\", request_timeout=100.0)\n",
    "\n",
    "# Query function\n",
    "def query_rag_system(question):\n",
    "    retrieved_docs = retriever.retrieve(question)\n",
    "    print (\"retrived nodes: \")\n",
    "    context = \"\\n\".join([doc.text for doc in retrieved_docs]) \n",
    "    for doc in retrieved_docs:\n",
    "        print (doc)\n",
    "        print (\"----------------\")\n",
    "       \n",
    "    prompt = f\"Context:\\n{context}\\n\\n Question: {question}\\n\\n\\n\\nAnswer:\"\n",
    "    response = llm.complete(prompt)\n",
    "    return response"
   ]
  },
  {
   "cell_type": "code",
   "execution_count": 43,
   "metadata": {},
   "outputs": [
    {
     "name": "stdout",
     "output_type": "stream",
     "text": [
      "retrived nodes: \n",
      "Node ID: 68b89711-b98e-410d-90cf-baa63b2be82d\n",
      "Text: Fees   Your application: $CAN 1,525   Fees for your family\n",
      "members:  - Spouse: $CAN 1,525  - Dependent child: $CAN 260\n",
      "Score:  0.765\n",
      "\n",
      "----------------\n",
      "Node ID: a70a0fed-c6c3-4399-94c9-21148ab34c34\n",
      "Text: Sections   Who can apply:    Check your score:    Get your\n",
      "documents ready:    Create your profile:    Rounds of invitations:\n",
      "Apply for permanent residence:    After you apply:    If we approve\n",
      "your application:\n",
      "Score:  1.473\n",
      "\n",
      "----------------\n"
     ]
    }
   ],
   "source": [
    "response = query_rag_system(\"application fees\")"
   ]
  },
  {
   "cell_type": "code",
   "execution_count": 12,
   "metadata": {},
   "outputs": [
    {
     "data": {
      "text/plain": [
       "\"The fee for applying through the Express Entry system is $CAN\\xa01,525. This fee applies to each applicant, including the primary applicant and any accompanying family members.\\n\\nThere are additional fees for family members, including:\\n\\n* Spouse: $CAN\\xa01,525\\n* Dependent child: $CAN\\xa0260\\n\\nIt's important to note that these fees are subject to change, so it's best to check the official government website for the most up-to-date information.\""
      ]
     },
     "execution_count": 12,
     "metadata": {},
     "output_type": "execute_result"
    }
   ],
   "source": [
    "response.text"
   ]
  },
  {
   "cell_type": "code",
   "execution_count": 46,
   "metadata": {},
   "outputs": [
    {
     "name": "stdout",
     "output_type": "stream",
     "text": [
      "retrived nodes: \n",
      "Node ID: 68b89711-b98e-410d-90cf-baa63b2be82d\n",
      "Text: Fees   Your application: $CAN 1,525   Fees for your family\n",
      "members:  - Spouse: $CAN 1,525  - Dependent child: $CAN 260\n",
      "Score:  0.267\n",
      "\n",
      "----------------\n",
      "Node ID: a70a0fed-c6c3-4399-94c9-21148ab34c34\n",
      "Text: Sections   Who can apply:    Check your score:    Get your\n",
      "documents ready:    Create your profile:    Rounds of invitations:\n",
      "Apply for permanent residence:    After you apply:    If we approve\n",
      "your application:\n",
      "Score:  1.439\n",
      "\n",
      "----------------\n"
     ]
    }
   ],
   "source": [
    "response = query_rag_system(\"I have 3 dependent children and a spouse. How much will be my total applications fees?\")"
   ]
  },
  {
   "cell_type": "code",
   "execution_count": 47,
   "metadata": {},
   "outputs": [
    {
     "data": {
      "text/plain": [
       "'The total application fees for your family of five (3 dependent children and a spouse) would be $CAN\\xa02,485. This is calculated as follows:\\n\\n* Your application fee: $CAN\\xa01,525\\n* Fees for your spouse: $CAN\\xa01,525\\n* Fees for each dependent child: $CAN\\xa0260 x 3 = $CAN\\xa0780\\n\\nTotal fees: $CAN\\xa02,485.'"
      ]
     },
     "execution_count": 47,
     "metadata": {},
     "output_type": "execute_result"
    }
   ],
   "source": [
    "response.text"
   ]
  },
  {
   "cell_type": "code",
   "execution_count": 48,
   "metadata": {},
   "outputs": [
    {
     "name": "stdout",
     "output_type": "stream",
     "text": [
      "retrived nodes: \n",
      "Node ID: 68b89711-b98e-410d-90cf-baa63b2be82d\n",
      "Text: Fees   Your application: $CAN 1,525   Fees for your family\n",
      "members:  - Spouse: $CAN 1,525  - Dependent child: $CAN 260\n",
      "Score:  0.509\n",
      "\n",
      "----------------\n",
      "Node ID: a70a0fed-c6c3-4399-94c9-21148ab34c34\n",
      "Text: Sections   Who can apply:    Check your score:    Get your\n",
      "documents ready:    Create your profile:    Rounds of invitations:\n",
      "Apply for permanent residence:    After you apply:    If we approve\n",
      "your application:\n",
      "Score:  1.254\n",
      "\n",
      "----------------\n"
     ]
    }
   ],
   "source": [
    "response = query_rag_system(\"I am applying for myself and my spouse. How much will be my total applications fees?\")"
   ]
  },
  {
   "cell_type": "code",
   "execution_count": 49,
   "metadata": {},
   "outputs": [
    {
     "data": {
      "text/plain": [
       "'Based on the information provided in the context, if you are applying for yourself and your spouse, the total application fees would be $CAN 1,525 + $CAN 1,525 = $CAN 3,050.'"
      ]
     },
     "execution_count": 49,
     "metadata": {},
     "output_type": "execute_result"
    }
   ],
   "source": [
    "response.text"
   ]
  },
  {
   "cell_type": "code",
   "execution_count": 50,
   "metadata": {},
   "outputs": [
    {
     "name": "stdout",
     "output_type": "stream",
     "text": [
      "retrived nodes: \n",
      "Node ID: 68b89711-b98e-410d-90cf-baa63b2be82d\n",
      "Text: Fees   Your application: $CAN 1,525   Fees for your family\n",
      "members:  - Spouse: $CAN 1,525  - Dependent child: $CAN 260\n",
      "Score:  0.456\n",
      "\n",
      "----------------\n",
      "Node ID: a70a0fed-c6c3-4399-94c9-21148ab34c34\n",
      "Text: Sections   Who can apply:    Check your score:    Get your\n",
      "documents ready:    Create your profile:    Rounds of invitations:\n",
      "Apply for permanent residence:    After you apply:    If we approve\n",
      "your application:\n",
      "Score:  1.500\n",
      "\n",
      "----------------\n"
     ]
    }
   ],
   "source": [
    "response = query_rag_system(\"I am a single mother with 1 child. How much is my application fees.\")"
   ]
  },
  {
   "cell_type": "code",
   "execution_count": 51,
   "metadata": {},
   "outputs": [
    {
     "data": {
      "text/plain": [
       "'Based on the information provided in the context, the application fee for a single mother with one child is $CAN 1,525. This is the same as the application fee for the main applicant. The fees for the family members are as follows:\\n\\n* Spouse: $CAN 1,525\\n* Dependent child: $CAN 260\\n\\nSo, the total application fee for a single mother with one child would be $CAN 1,525 + $CAN 260 = $CAN 1,785.'"
      ]
     },
     "execution_count": 51,
     "metadata": {},
     "output_type": "execute_result"
    }
   ],
   "source": [
    "response.text"
   ]
  }
 ],
 "metadata": {
  "kernelspec": {
   "display_name": "canadaimmigrationhelpdesk-usinggenai-s0qUKeX3-py3.12",
   "language": "python",
   "name": "python3"
  },
  "language_info": {
   "codemirror_mode": {
    "name": "ipython",
    "version": 3
   },
   "file_extension": ".py",
   "mimetype": "text/x-python",
   "name": "python",
   "nbconvert_exporter": "python",
   "pygments_lexer": "ipython3",
   "version": "3.12.8"
  }
 },
 "nbformat": 4,
 "nbformat_minor": 2
}
