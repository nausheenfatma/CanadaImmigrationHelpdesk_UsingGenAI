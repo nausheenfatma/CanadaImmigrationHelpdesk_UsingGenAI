{
 "cells": [
  {
   "cell_type": "markdown",
   "metadata": {},
   "source": [
    "### This notebook shows how to \n",
    "\n",
    "##### 1. Build a RAG index from raw documents folder and store in Faiss vector database \n",
    "##### 2. Query from RAG index\n",
    "##### 3. Demo of answers shared by LLM + RAG"
   ]
  },
  {
   "cell_type": "code",
   "execution_count": 2,
   "metadata": {},
   "outputs": [],
   "source": [
    "from llama_index.core import SimpleDirectoryReader\n",
    "from llama_index.vector_stores.faiss import FaissVectorStore\n",
    "from llama_index.core import StorageContext\n",
    "from llama_index.core import VectorStoreIndex\n",
    "import faiss\n",
    "\n",
    "# Load your documents\n",
    "documents = SimpleDirectoryReader(input_dir=\"../data/docs/\").load_data()"
   ]
  },
  {
   "cell_type": "markdown",
   "metadata": {},
   "source": [
    "### 1. Load documents for indexing"
   ]
  },
  {
   "cell_type": "code",
   "execution_count": 3,
   "metadata": {},
   "outputs": [
    {
     "name": "stderr",
     "output_type": "stream",
     "text": [
      "/home/nausheenfatma/.cache/pypoetry/virtualenvs/canadaimmigrationhelpdesk-usinggenai-s0qUKeX3-py3.12/lib/python3.12/site-packages/tqdm/auto.py:21: TqdmWarning: IProgress not found. Please update jupyter and ipywidgets. See https://ipywidgets.readthedocs.io/en/stable/user_install.html\n",
      "  from .autonotebook import tqdm as notebook_tqdm\n",
      "Xet Storage is enabled for this repo, but the 'hf_xet' package is not installed. Falling back to regular HTTP download. For better performance, install the package with: `pip install huggingface_hub[hf_xet]` or `pip install hf_xet`\n"
     ]
    }
   ],
   "source": [
    "# Initialize embeddings, used for encoding documents into embedding\n",
    "from llama_index.embeddings.huggingface import HuggingFaceEmbedding\n",
    "\n",
    "embed_model = HuggingFaceEmbedding(model_name=\"sentence-transformers/all-MiniLM-L6-v2\")"
   ]
  },
  {
   "cell_type": "markdown",
   "metadata": {},
   "source": [
    "### 2. Emded the documents and store in FAISS vectorstore index"
   ]
  },
  {
   "cell_type": "code",
   "execution_count": 4,
   "metadata": {},
   "outputs": [],
   "source": [
    "# Create FAISS index\n",
    "dimension = 384  # Dimension for MiniLM embeddings\n",
    "faiss_index = faiss.IndexFlatL2(dimension)\n",
    "\n",
    "# Construct the FaissVectorStore\n",
    "vector_store = FaissVectorStore(faiss_index=faiss_index)\n",
    "\n",
    "\n",
    "# Create a StorageContext to use with LlamaIndex\n",
    "storage_context = StorageContext.from_defaults(vector_store=vector_store)\n",
    "\n",
    "# Build index\n",
    "index = VectorStoreIndex.from_documents(documents, storage_context=storage_context, embed_model=embed_model)\n",
    "retriever = index.as_retriever()"
   ]
  },
  {
   "cell_type": "markdown",
   "metadata": {},
   "source": [
    "### 3. Initialize Llama model for text generation from retrieved documents"
   ]
  },
  {
   "cell_type": "code",
   "execution_count": 15,
   "metadata": {},
   "outputs": [],
   "source": [
    "from llama_index.llms.ollama import Ollama\n",
    "llm = Ollama(model=\"llama2\", request_timeout=100.0)\n",
    "\n",
    "# Query function\n",
    "def query_rag_system(question):\n",
    "    retrieved_docs = retriever.retrieve(question)\n",
    "    context = \"\\n\".join([doc.text for doc in retrieved_docs])    \n",
    "    prompt = f\"Context:\\n{context}\\n\\n Question: {question}\\n\\n\\n\\nAnswer:\"\n",
    "    response = llm.complete(prompt)\n",
    "    return response\n"
   ]
  },
  {
   "cell_type": "markdown",
   "metadata": {},
   "source": [
    "### 4. Query from domain specific RAG index"
   ]
  },
  {
   "cell_type": "code",
   "execution_count": 16,
   "metadata": {},
   "outputs": [
    {
     "name": "stdout",
     "output_type": "stream",
     "text": [
      "To be eligible to apply for an open work permit through the Agri-Food Pilot, you must meet certain requirements. These include:\n",
      "\n",
      "* Being a foreign worker who is currently working in Canada on a work permit, and\n",
      "* Having a job offer from an employer in one of the eligible industries or occupations listed by Immigration, Refugees and Citizenship Canada (IRCC), and\n",
      "* Meeting the requirements for the Agri-Food Pilot program.\n",
      "\n",
      "If you meet these requirements, you can apply for an open work permit through the Agri-Food Pilot. Your family members may also be eligible to apply for an open work permit, regardless of their job skill level. However, if they are in a TEER 2 or 3 occupation, they must meet additional requirements to qualify.\n",
      "\n",
      "It's important to note that the application process and requirements may vary depending on your individual circumstances. It's recommended to consult with IRCC or a qualified immigration lawyer to ensure you have the most up-to-date information and to get professional advice on your specific situation.\n"
     ]
    }
   ],
   "source": [
    "# Example query\n",
    "question = \"Who can apply for open work permit?\"\n",
    "answer = query_rag_system(question)\n",
    "print(answer)\n"
   ]
  },
  {
   "cell_type": "code",
   "execution_count": 17,
   "metadata": {},
   "outputs": [],
   "source": [
    "question = \"Can I apply for the Rural and Northern Immigration Pilot now?\""
   ]
  },
  {
   "cell_type": "code",
   "execution_count": null,
   "metadata": {},
   "outputs": [
    {
     "name": "stdout",
     "output_type": "stream",
     "text": [
      "Unfortunately, the Rural and Northern Immigration Pilot has ended on August 31, 2024. As a result, new applications are no longer being accepted. However, if you were eligible and applied before the deadline, your application is still being processed. Additionally, if you have an eligible job offer, you may be able to apply for a work permit while your permanent residence application is being processed.\n",
      "\n",
      "It's important to note that the Agri-Food Pilot is still open and accepting applications. If you are interested in immigrating to Canada through this program, you can find more information on the Immigration, Refugees and Citizenship Canada website.\n",
      "\n",
      "In terms of work permits for family members, they may be eligible for an open work permit if certain requirements are met. Your family member can apply for an open work permit online through the Immigration, Refugees and Citizenship Canada website.\n",
      "\n",
      "I hope this information is helpful. If you have any further questions, please don't hesitate to ask.\n"
     ]
    }
   ],
   "source": [
    "answer = query_rag_system(question)\n",
    "print(answer)"
   ]
  },
  {
   "cell_type": "code",
   "execution_count": 21,
   "metadata": {},
   "outputs": [],
   "source": [
    "question = \"Can I drive in Canada after moving?\""
   ]
  },
  {
   "cell_type": "code",
   "execution_count": 22,
   "metadata": {},
   "outputs": [
    {
     "name": "stdout",
     "output_type": "stream",
     "text": [
      "Welcome to the Canada.ca page on driving in Canada! Here's an overview of the information provided on this page:\n",
      "\n",
      "Driving Licences:\n",
      "If you're a newcomer to Canada, you may be able to use your foreign driver's licence for a short time after arriving. However, you will need to get a Canadian driver's licence issued by the government of the province or territory where you live. The process for obtaining a driver's licence in Canada varies depending on your driving background and the province or territory where you live.\n",
      "\n",
      "Car Insurance:\n",
      "It is illegal to drive without car insurance in Canada. You must get insurance coverage for yourself and any passengers in your vehicle, as well as for any damage to your vehicle or other vehicles or property in an accident. There are different types of car insurance plans available, including coverage for injuries to yourself or damage to your vehicle, or both. The cost of car insurance varies depending on the province or territory where you live and your personal information such as age, driving record, and living location.\n",
      "\n",
      "Driving Laws and Rules:\n",
      "It is important to familiarize yourself with Canada's driving laws before getting behind the wheel. The laws are strictly enforced, and penalties for breaking them can be severe. You can get a copy of the driving guide issued by the department that regulates cars and driving in your province or territory to learn about the laws and rules of the road.\n",
      "\n",
      "Buying or Leasing a Car:\n",
      "If you need a car for short periods, you may want to consider renting a car from a car rental agency. If you prefer not to buy or lease a car, some cities have car-sharing programs that allow you to use a car without owning one. When buying or leasing a car, make sure to get information and help from the department that regulates cars and driving in your province or territory.\n",
      "\n",
      "Safety:\n",
      "The Canada Safety Council provides information on what drivers can do to improve road safety in Canada. It's important to be familiar with safety issues related to winter driving, as snow and ice are major driving hazards in most parts of Canada. You may want to consider buying special winter tires for your car (which is mandatory in some provinces) and driving slowly in snowy and icy conditions.\n",
      "\n",
      "Related Links:\n",
      "If you're looking for more information on driving in Canada, there are several related links provided on this page, including the Canada Motor Vehicle Safety Act, Insurance Bureau of Canada, and the Canada Safety Council website.\n",
      "\n",
      "Newcomer Services:\n",
      "If you're a newcomer to Canada and need help finding free services near you, you can visit the Immigration, Refugees and Citizenship Canada (IRCC) website for more information.\n"
     ]
    }
   ],
   "source": [
    "answer = query_rag_system(question)\n",
    "print(answer)"
   ]
  },
  {
   "cell_type": "code",
   "execution_count": 23,
   "metadata": {},
   "outputs": [],
   "source": [
    "question = \"What kind of Canadian laws and rules I should be aware of?\""
   ]
  },
  {
   "cell_type": "code",
   "execution_count": 24,
   "metadata": {},
   "outputs": [
    {
     "name": "stdout",
     "output_type": "stream",
     "text": [
      "As a new immigrant to Canada, it's important to be aware of the country's laws and regulations to ensure a smooth transition and avoid any legal issues. Here are some key areas of Canadian law that you may find useful to know:\n",
      "\n",
      "1. Criminal Law: Understanding the laws surrounding criminal activity, such as assault, theft, and drug offenses, is essential for your safety and well-being in Canada.\n",
      "2. Administrative Law: This area of law deals with government rules and regulations, including those related to immigration, citizenship, and public services.\n",
      "3. Civil Law: Civil laws govern disputes between individuals, organizations, or the government. You may encounter civil laws in situations such as contract disputes, property rights, and family law.\n",
      "4. Labour Laws: As a worker in Canada, you should be aware of labour laws related to work hours, wages, health and safety, and employment standards.\n",
      "5. Public Health Laws: Familiarizing yourself with public health laws and regulations can help you understand how they impact your daily life, such as food safety, vaccination requirements, and disease prevention.\n",
      "6. Immigration Laws: As an immigrant to Canada, you should be aware of the country's immigration laws and procedures, including requirements for obtaining a visa or permanent residency, and the rights and responsibilities associated with these statuses.\n",
      "7. Privacy Laws: Understanding Canada's privacy laws can help you protect your personal information and maintain your privacy in various situations, such as dealing with government agencies, healthcare providers, or businesses.\n",
      "8. Consumer Protection Laws: Familiarizing yourself with consumer protection laws can help you make informed purchasing decisions and avoid fraudulent activities in the marketplace.\n",
      "9. Environmental Laws: As a resident of Canada, you should be aware of environmental laws and regulations related to waste management, air and water quality, and conservation efforts.\n",
      "10. Indigenous Laws: If you are living or working on traditional Indigenous lands, it's important to understand the unique legal and cultural context of those communities, including their treaty rights, land claims, and self-governance.\n",
      "\n",
      "By being aware of these areas of Canadian law, you can better navigate your daily life in Canada, avoid potential legal issues, and respect the country's laws and culture.\n"
     ]
    }
   ],
   "source": [
    "answer = query_rag_system(question)\n",
    "print(answer)"
   ]
  }
 ],
 "metadata": {
  "kernelspec": {
   "display_name": "canadaimmigrationhelpdesk-usinggenai-s0qUKeX3-py3.12",
   "language": "python",
   "name": "python3"
  },
  "language_info": {
   "codemirror_mode": {
    "name": "ipython",
    "version": 3
   },
   "file_extension": ".py",
   "mimetype": "text/x-python",
   "name": "python",
   "nbconvert_exporter": "python",
   "pygments_lexer": "ipython3",
   "version": "3.12.8"
  }
 },
 "nbformat": 4,
 "nbformat_minor": 2
}
